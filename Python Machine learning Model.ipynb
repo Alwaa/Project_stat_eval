{
 "cells": [
  {
   "cell_type": "code",
   "execution_count": 3,
   "metadata": {
    "collapsed": true
   },
   "outputs": [],
   "source": [
    "import pandas as pd\n",
    "from rpy2.robjects import r, pandas2ri\n",
    "import numpy as np\n",
    "from sklearn.neural_network import MLPClassifier\n",
    "from sklearn.datasets import make_classification\n",
    "\n",
    "from sklearn.model_selection import train_test_split\n",
    "import random\n",
    "import os as os\n",
    "import json as json\n",
    "\n",
    "from sklearn.linear_model import LogisticRegression\n",
    "from sklearn.linear_model import LinearRegression\n",
    "from sklearn import model_selection\n",
    "\n",
    "import time as time\n",
    "\n",
    "from sklearn.utils._testing import ignore_warnings\n",
    "from sklearn.exceptions import ConvergenceWarning\n",
    "\n",
    "np.random.seed(1)"
   ]
  },
  {
   "cell_type": "code",
   "execution_count": 3,
   "metadata": {},
   "outputs": [],
   "source": [
    "#IMPORTING DATA\n",
    "pandas2ri.activate()\n",
    "robj = r.load('project/Data/armdata.RData')\n",
    "data = np.array(r['armdata'])"
   ]
  },
  {
   "cell_type": "code",
   "execution_count": 4,
   "metadata": {},
   "outputs": [
    {
     "name": "stdout",
     "output_type": "stream",
     "text": [
      "\n",
      "Stored to file: armarray.json\n"
     ]
    }
   ],
   "source": [
    "filename = \"armarray\" + \".json\"\n",
    "data_save = { \"data\" : data.tolist() }\n",
    "with open(filename, 'w') as outfile:\n",
    "    json.dump(data_save, outfile, indent=4)\n",
    "print(f\"\\nStored to file: {filename}\")"
   ]
  },
  {
   "cell_type": "code",
   "execution_count": 5,
   "metadata": {},
   "outputs": [
    {
     "name": "stdout",
     "output_type": "stream",
     "text": [
      "(16, 10, 10, 100, 3)\n"
     ]
    }
   ],
   "source": [
    "print(np.shape(data))\n",
    "#First value is experiment, second is person, third is repetition, fourth is index, and fifth is coordinate, in the format (x,y,z)"
   ]
  },
  {
   "cell_type": "markdown",
   "metadata": {},
   "source": [
    "# Section 1 - Predicting object size"
   ]
  },
  {
   "cell_type": "code",
   "execution_count": 6,
   "metadata": {},
   "outputs": [],
   "source": [
    "#EXTRACTION OF X AND Y FOR MACHINE LEARNING MODEL\n",
    "Max_Coord = []\n",
    "Y_experiment = []\n",
    "\n",
    "cur_x = 0\n",
    "for experiment in range(15):\n",
    "    for person in range(10):\n",
    "        for repetition in range(10):\n",
    "            cur_z = -99999\n",
    "            for index in range(100):\n",
    "                val = data[experiment,person,repetition,index,2]\n",
    "                if val > cur_z:\n",
    "                    cur_z = val\n",
    "                    cur_x = data[experiment,person,repetition,index,0]\n",
    "            for index in range(100):\n",
    "                val = data[experiment,person,repetition,index,2]\n",
    "                if val > cur_z:\n",
    "                    cur_z = val\n",
    "                    cur_x = data[experiment,person,repetition,index,0]\n",
    "            Max_Coord.append([cur_z,cur_x])\n",
    "            Y_experiment.append(experiment)"
   ]
  },
  {
   "cell_type": "code",
   "execution_count": 7,
   "metadata": {},
   "outputs": [],
   "source": [
    "#TRANSFORMING PREDICTIONS TO FIT WITH SIZE\n",
    "Y_experiment = np.array(Y_experiment)\n",
    "Y_experiment[Y_experiment == 0] = 20\n",
    "Y_experiment[Y_experiment == 1] = 40\n",
    "Y_experiment[Y_experiment == 2] = 60\n",
    "Y_experiment[Y_experiment == 3] = 20\n",
    "Y_experiment[Y_experiment == 4] = 40\n",
    "Y_experiment[Y_experiment == 5] = 60\n",
    "Y_experiment[Y_experiment == 6] = 20\n",
    "Y_experiment[Y_experiment == 7] = 40\n",
    "Y_experiment[Y_experiment == 8] = 60\n",
    "Y_experiment[Y_experiment == 9] = 20\n",
    "Y_experiment[Y_experiment == 10] = 40\n",
    "Y_experiment[Y_experiment == 11] = 60\n",
    "Y_experiment[Y_experiment == 12] = 20\n",
    "Y_experiment[Y_experiment == 13] = 40\n",
    "Y_experiment[Y_experiment == 14] = 60\n"
   ]
  },
  {
   "cell_type": "code",
   "execution_count": 8,
   "metadata": {},
   "outputs": [
    {
     "name": "stdout",
     "output_type": "stream",
     "text": [
      "1500\n",
      "1500\n"
     ]
    }
   ],
   "source": [
    "#Making sure lengths are equal as they should be\n",
    "print(len(Y_experiment))\n",
    "print(len(Max_Coord))"
   ]
  },
  {
   "cell_type": "code",
   "execution_count": 9,
   "metadata": {},
   "outputs": [],
   "source": [
    "X_train, X_test, y_train, y_test = train_test_split(Max_Coord, Y_experiment, stratify=Y_experiment,random_state=1)\n"
   ]
  },
  {
   "cell_type": "code",
   "execution_count": 10,
   "metadata": {},
   "outputs": [
    {
     "name": "stdout",
     "output_type": "stream",
     "text": [
      "1\n",
      "0.7226666666666667\n",
      "2\n",
      "0.7066666666666667\n",
      "3\n",
      "0.7413333333333333\n",
      "4\n",
      "0.712\n",
      "5\n",
      "0.7653333333333333\n",
      "6\n",
      "0.6666666666666666\n",
      "7\n",
      "0.5946666666666667\n",
      "8\n",
      "0.6693333333333333\n",
      "9\n",
      "0.5066666666666667\n"
     ]
    }
   ],
   "source": [
    "#NEURAL NETWORK\n",
    "for i in range(1,10):\n",
    "    clf = MLPClassifier(random_state=1, max_iter=1000,hidden_layer_sizes=(i*10,i*10)).fit(X_train, y_train)\n",
    "    print(i)\n",
    "    print(clf.score(X_test,y_test))\n"
   ]
  },
  {
   "cell_type": "code",
   "execution_count": 11,
   "metadata": {},
   "outputs": [
    {
     "data": {
      "text/plain": [
       "0.7653333333333333"
      ]
     },
     "execution_count": 11,
     "metadata": {},
     "output_type": "execute_result"
    }
   ],
   "source": [
    "clf = MLPClassifier(random_state=1, max_iter=1000,hidden_layer_sizes=(50,50)).fit(X_train, y_train)\n",
    "clf.score(X_test,y_test)"
   ]
  },
  {
   "cell_type": "markdown",
   "metadata": {},
   "source": [
    "# Section 2 - Predicting object position"
   ]
  },
  {
   "cell_type": "code",
   "execution_count": 12,
   "metadata": {},
   "outputs": [],
   "source": [
    "#Extracting X and y\n",
    "Max_Coords_2 = []\n",
    "Y_experiment_2 = []\n",
    "\n",
    "cur_x = 0\n",
    "for experiment in range(15):\n",
    "    for person in range(10):\n",
    "        for repetition in range(10):\n",
    "            cur_z = -99999\n",
    "            for index in range(100):\n",
    "                val = data[experiment,person,repetition,index,2]\n",
    "                if val > cur_z:\n",
    "                    cur_z = val\n",
    "                    cur_x = data[experiment,person,repetition,index,0]\n",
    "            Max_Coords_2.append([cur_z,cur_x])\n",
    "            Y_experiment_2.append(experiment)"
   ]
  },
  {
   "cell_type": "code",
   "execution_count": 13,
   "metadata": {},
   "outputs": [],
   "source": [
    "#TRANSFORMING PREDICTIONS TO FIT WITH SIZE\n",
    "Y_experiment_2 = np.array(Y_experiment_2)\n",
    "Y_experiment_2[Y_experiment_2 == 0] = 20\n",
    "Y_experiment_2[Y_experiment_2 == 1] = 20\n",
    "Y_experiment_2[Y_experiment_2 == 2] = 20\n",
    "Y_experiment_2[Y_experiment_2 == 3] = 40\n",
    "Y_experiment_2[Y_experiment_2 == 4] = 40\n",
    "Y_experiment_2[Y_experiment_2 == 5] = 40\n",
    "Y_experiment_2[Y_experiment_2 == 6] = 60\n",
    "Y_experiment_2[Y_experiment_2 == 7] = 60\n",
    "Y_experiment_2[Y_experiment_2 == 8] = 60\n",
    "Y_experiment_2[Y_experiment_2 == 9] = 80\n",
    "Y_experiment_2[Y_experiment_2 == 10] = 80\n",
    "Y_experiment_2[Y_experiment_2 == 11] = 80\n",
    "Y_experiment_2[Y_experiment_2 == 12] = 100\n",
    "Y_experiment_2[Y_experiment_2 == 13] = 100\n",
    "Y_experiment_2[Y_experiment_2 == 14] = 100"
   ]
  },
  {
   "cell_type": "code",
   "execution_count": 14,
   "metadata": {},
   "outputs": [],
   "source": [
    "X_train, X_test, y_train, y_test = train_test_split(Max_Coords_2, Y_experiment_2, stratify=Y_experiment_2,random_state=1)\n"
   ]
  },
  {
   "cell_type": "code",
   "execution_count": 15,
   "metadata": {},
   "outputs": [
    {
     "name": "stdout",
     "output_type": "stream",
     "text": [
      "0.5253333333333333\n",
      "0.5386666666666666\n",
      "0.5146666666666667\n",
      "0.5146666666666667\n",
      "0.5173333333333333\n",
      "0.5386666666666666\n",
      "0.3893333333333333\n",
      "0.52\n",
      "0.5333333333333333\n"
     ]
    }
   ],
   "source": [
    "#clt = MLPClassifier(solver='lbfgs', alpha=1e-5,\n",
    "#    hidden_layer_sizes=(5, 2), random_state=1)\n",
    "for i in range(1,10):\n",
    "    clt = MLPClassifier(random_state=1, max_iter=1000,hidden_layer_sizes=(i*10,i*10,i*10,i*10)).fit(X_train, y_train)\n",
    "    print(clt.score(X_test,y_test))"
   ]
  },
  {
   "cell_type": "code",
   "execution_count": 16,
   "metadata": {},
   "outputs": [
    {
     "data": {
      "text/plain": [
       "0.5386666666666666"
      ]
     },
     "execution_count": 16,
     "metadata": {},
     "output_type": "execute_result"
    }
   ],
   "source": [
    "clt = MLPClassifier(random_state=1, max_iter=1000,hidden_layer_sizes=(20,20,20,20)).fit(X_train, y_train)\n",
    "clt.score(X_test, y_test)"
   ]
  },
  {
   "cell_type": "markdown",
   "metadata": {},
   "source": [
    "# Section 3 - Predicting experiment number"
   ]
  },
  {
   "cell_type": "code",
   "execution_count": 17,
   "metadata": {},
   "outputs": [],
   "source": [
    "#Importing data\n",
    "pandas2ri.activate()\n",
    "robj = r.load('project/Data/armdata.RData')\n",
    "data = np.array(r['armdata'])\n"
   ]
  },
  {
   "cell_type": "code",
   "execution_count": 18,
   "metadata": {},
   "outputs": [],
   "source": [
    "#Extrating X and y\n",
    "Max_Coord_3 = []\n",
    "Y_experiment_3 = []\n",
    "\n",
    "cur_x = 0\n",
    "for experiment in range(16):\n",
    "    for person in range(10):\n",
    "        for repetition in range(10):\n",
    "            cur_z = -99999\n",
    "            for index in range(100):\n",
    "                val = data[experiment,person,repetition,index,2]\n",
    "                if val > cur_z:\n",
    "                    cur_z = val\n",
    "                    cur_x = data[experiment,person,repetition,index,0]\n",
    "            Max_Coord_3.append([cur_z,cur_x])\n",
    "            Y_experiment_3.append(experiment)"
   ]
  },
  {
   "cell_type": "code",
   "execution_count": 19,
   "metadata": {},
   "outputs": [],
   "source": [
    "#Fitting the model\n",
    "X_train, X_test, y_train, y_test = train_test_split(Max_Coord_3, Y_experiment_3, stratify=Y_experiment_3,random_state=1)\n",
    "cln = MLPClassifier(random_state=1, max_iter=1000,hidden_layer_sizes=(10,10,10)).fit(X_train, y_train)"
   ]
  },
  {
   "cell_type": "code",
   "execution_count": 20,
   "metadata": {},
   "outputs": [
    {
     "data": {
      "text/plain": [
       "0.5125"
      ]
     },
     "execution_count": 20,
     "metadata": {},
     "output_type": "execute_result"
    }
   ],
   "source": [
    "#test\n",
    "cln.score(X_test, y_test)"
   ]
  },
  {
   "cell_type": "markdown",
   "metadata": {},
   "source": [
    "# Section 4 - X Y and Z"
   ]
  },
  {
   "cell_type": "code",
   "execution_count": 21,
   "metadata": {},
   "outputs": [],
   "source": [
    "#Extrating X and z and y\n",
    "Max_Coord_4 = []\n",
    "Z_experiment_4 = []\n",
    "\n",
    "cur_x = 0\n",
    "for experiment in range(15):\n",
    "    for person in range(10):\n",
    "        for repetition in range(10):\n",
    "            cur_z = -99999\n",
    "            cur_y = -99999\n",
    "            for index in range(100):\n",
    "                val_z = data[experiment,person,repetition,index,2]\n",
    "                val_y = data[experiment,person,repetition,index,1]\n",
    "                if val_z > cur_z:\n",
    "                    cur_z = val_z\n",
    "                    cur_x = data[experiment,person,repetition,index,0]\n",
    "                if abs(val_y) > cur_y:\n",
    "                    cur_y = val_y\n",
    "            Max_Coord_4.append([cur_z,cur_x,cur_y])\n",
    "            Z_experiment_4.append(experiment)\n"
   ]
  },
  {
   "cell_type": "code",
   "execution_count": 22,
   "metadata": {},
   "outputs": [],
   "source": [
    "#Fitting the model\n",
    "X_train, X_test, y_train, y_test = train_test_split(Max_Coord_4, Z_experiment_4, stratify=Z_experiment_4,random_state=1)\n",
    "cln = MLPClassifier(random_state=1, max_iter=1000,hidden_layer_sizes=(10,10,10)).fit(X_train, y_train)"
   ]
  },
  {
   "cell_type": "code",
   "execution_count": 23,
   "metadata": {},
   "outputs": [
    {
     "data": {
      "text/plain": [
       "0.44266666666666665"
      ]
     },
     "execution_count": 23,
     "metadata": {},
     "output_type": "execute_result"
    }
   ],
   "source": [
    "#test\n",
    "cln.score(X_test, y_test)"
   ]
  },
  {
   "cell_type": "markdown",
   "metadata": {},
   "source": [
    "# Alexander Code - Combination with my code"
   ]
  },
  {
   "cell_type": "code",
   "execution_count": 4,
   "metadata": {},
   "outputs": [],
   "source": [
    "\n",
    "#Importing data\n",
    "pandas2ri.activate()\n",
    "robj = r.load('project/Data/armdata.RData')\n",
    "data = np.array(r['armdata'])"
   ]
  },
  {
   "cell_type": "code",
   "execution_count": 5,
   "metadata": {},
   "outputs": [],
   "source": [
    "@ignore_warnings(category=ConvergenceWarning)\n",
    "def train_test(X_train,Y_train,X_test,Y_test, numb = 1, print_B = False):\n",
    "    #Y is nestes 0-index is heigh, 1 index is position\n",
    "\n",
    "    logreg3 = LogisticRegression(C=1e5,max_iter=mx_iter)\n",
    "    logreg3.fit(X_train,Y_train[0] )\n",
    "    \n",
    "    logreg3_d = LogisticRegression(C=1e5,max_iter=mx_iter)\n",
    "    logreg3_d.fit(X_train,Y_train[1] )\n",
    "    \n",
    "    y_pred3 = logreg3.predict(X_test)\n",
    "    y_pred3_d = logreg3_d.predict(X_test)\n",
    "    \n",
    "    acc_obj = y_pred3 == Y_test[0]\n",
    "    acc_dist = y_pred3_d == Y_test[1]\n",
    "    acc_all = np.logical_and( acc_obj, acc_dist)\n",
    "    \n",
    "    acc3_h = np.round(np.mean(acc_obj) ,4)\n",
    "    acc3_d = np.round(np.mean(acc_dist) ,4)\n",
    "    \n",
    "    test_err = np.round(np.mean(acc_all) ,4)\n",
    "    \n",
    "    not_N_test = Y_test[0] != \"N\"\n",
    "\n",
    "    distances = Y_test[1][not_N_test].astype(float)\n",
    "    \n",
    "    y_pred3_d[y_pred3_d == \"N\"] = \"30\"\n",
    "    dist_pred = y_pred3_d[not_N_test].astype(float)\n",
    "    MSSE = np.mean( (dist_pred - distances)**2 ) \n",
    "    \n",
    "    \n",
    "    if print_B:\n",
    "        print(f\"\\nPREDICTOR{numb}\\n\",\"-\"*16)\n",
    "        print(f\"\\n H: {acc3_h} \\n D: {acc3_d}  \\n Tot: {test_err}  \\n MSSE dist: {MSSE}\")\n",
    "    else:\n",
    "        return test_err, acc_all\n",
    "    \n",
    "    \n",
    "#TURN ON AND OF TO CHECK THE CONVERGENCE "
   ]
  },
  {
   "cell_type": "code",
   "execution_count": 6,
   "metadata": {},
   "outputs": [],
   "source": [
    "@ignore_warnings(category=ConvergenceWarning)\n",
    "def train_test_reg(X_train,Y_train,X_test,Y_test, numb = 1, print_B = False):\n",
    "    #Y is nestes 0-index is heigh, 1 index is position\n",
    "\n",
    "    logreg3 = LogisticRegression(C=1e5,max_iter=mx_iter)\n",
    "    logreg3.fit(X_train,Y_train[0] )\n",
    "    \n",
    "    not_N = Y_train[0] != \"N\"\n",
    "    \n",
    "    linreg3_d = LinearRegression()\n",
    "    linreg3_d.fit(X_train[not_N],Y_train[1][not_N] )\n",
    "    \n",
    "    y_pred3 = logreg3.predict(X_test)\n",
    "    y_pred3_d = linreg3_d.predict(X_test)\n",
    "    \n",
    "    y_pred_d_String = np.empty((len(y_pred3_d)), dtype=object)\n",
    "    \n",
    "    y_pred_d_String[y_pred3_d/7.5 < 2.5] = \"15\"\n",
    "    y_pred_d_String[ np.logical_and( y_pred3_d/7.5 > 2.5 , y_pred3_d/7.5 < 3.5 )] = \"22.5\"\n",
    "    y_pred_d_String[ np.logical_and( y_pred3_d/7.5 > 3.5 , y_pred3_d/7.5 < 4.5 )] = \"30\"\n",
    "    y_pred_d_String[ np.logical_and( y_pred3_d/7.5 > 4.5 , y_pred3_d/7.5 < 5.5 )] = \"37.5\"\n",
    "    y_pred_d_String[ y_pred3_d/7.5 > 5.5] = \"45\"\n",
    "    \n",
    "    y_pred_d_String[y_pred3 == \"N\"] = \"N\"\n",
    "    \n",
    "    acc_obj = y_pred3 == Y_test[0]\n",
    "    acc_dist = y_pred_d_String == Y_test[1]\n",
    "    acc_all = np.logical_and( acc_obj, acc_dist)\n",
    "    \n",
    "    acc3_h = np.round(np.mean(acc_obj) ,4)\n",
    "    acc3_d = np.round(np.mean(acc_dist) ,4)\n",
    "    \n",
    "    test_err = np.round(np.mean(acc_all) ,4)\n",
    "    \n",
    "    not_N_test = Y_test[0] != \"N\"\n",
    "\n",
    "    distances = Y_test[1][not_N_test].astype(float)\n",
    "    dist_pred = y_pred3_d[not_N_test].astype(float)\n",
    "    \n",
    "    MSSE = np.mean( (dist_pred - distances)**2 ) \n",
    "    \n",
    "    \"\"\"\n",
    "    i_s = np.random.randint(len(Y_d),size =36)\n",
    "    for i in i_s:\n",
    "        print(y_pred3_d[i],Y_d[i],y_pred_d_String[i])\n",
    "        \"\"\"\n",
    "    if print_B:\n",
    "        print(f\"\\nPREDICTOR(reg){numb}\\n\",\"-\"*16)\n",
    "        print(f\"\\n H: {acc3_h} \\n D: {acc3_d}  \\n Tot: {test_err} \\n MSSE dist: {MSSE}\")\n",
    "    else:\n",
    "        return test_err, acc_all"
   ]
  },
  {
   "cell_type": "code",
   "execution_count": 7,
   "metadata": {},
   "outputs": [],
   "source": [
    "tot = 16*10*10\n",
    "X = np.empty((tot,16))\n",
    "X_raw = np.empty((tot,300))\n",
    "y = np.empty((tot), dtype=object)\n",
    "y_d = np.empty((tot), dtype=object)\n",
    "\n",
    "y_ex = np.empty((tot), dtype=object)\n",
    "y_per = np.empty((tot), dtype=object)\n",
    "y_tr = np.empty((tot), dtype=object)\n",
    "\n",
    "remove_indx = []\n",
    "\n",
    "num_for_ang = 10\n",
    "\n",
    "for i in range(tot):\n",
    "    ex = i//100\n",
    "    per = (i//10)%10\n",
    "    tr = i%10\n",
    "    \n",
    "    y_ex[i] = ex\n",
    "    y_per[i] = per\n",
    "    y_tr[i] = tr\n",
    "    \n",
    "    if per == 8:\n",
    "        if [ex,tr] in [[4,0],[6,1],[9,0],[10,0],[12,0],[13,1]]:\n",
    "            remove_indx.append(i)\n",
    "            \n",
    "            continue\n",
    "    \n",
    "    cords = data[ex,per,tr]\n",
    "    \n",
    "    #Max heigh\n",
    "    indx_z = np.argmax(cords,axis = 0)[2]\n",
    "    max_z = np.array([cords[indx_z,2],cords[indx_z,0],indx_z])\n",
    "    \n",
    "    #Max transverse\n",
    "    indx_y = np.argmax(abs(cords),axis = 0)[1]\n",
    "    max_y = np.array([abs(cords[indx_y,1]),cords[indx_y,0],indx_y])\n",
    "    \n",
    "    # 6 for this part\n",
    "    \n",
    "    #Angle-z\n",
    "    \n",
    "    regressor = LinearRegression()\n",
    "    regressor.fit(cords[:num_for_ang,0].reshape(-1, 1), cords[:num_for_ang,2].reshape(-1, 1))\n",
    "    ang_z = np.sin(regressor.coef_[0][0])\n",
    "    \n",
    "    regressor = LinearRegression()\n",
    "    regressor.fit(cords[-num_for_ang:,0].reshape(-1, 1), cords[-num_for_ang:,2].reshape(-1, 1))\n",
    "    ang_z2 = np.sin(regressor.coef_[0][0])\n",
    "    \n",
    "    #Time\n",
    "    regressor = LinearRegression()\n",
    "    regressor.fit(np.arange(num_for_ang).reshape(-1, 1), cords[:num_for_ang,2].reshape(-1, 1))\n",
    "    ang_z_t = np.sin(regressor.coef_[0][0])\n",
    "    \n",
    "    regressor = LinearRegression()\n",
    "    regressor.fit(np.arange(num_for_ang).reshape(-1, 1), cords[-num_for_ang:,2].reshape(-1, 1))\n",
    "    ang_z2_t = np.sin(regressor.coef_[0][0])\n",
    "    \n",
    "\n",
    "    \n",
    "    #Angle-y\n",
    "    \n",
    "    regressor = LinearRegression()\n",
    "    regressor.fit(cords[:num_for_ang,0].reshape(-1, 1), cords[:num_for_ang,1].reshape(-1, 1))\n",
    "    ang_y = np.sin(regressor.coef_[0][0])\n",
    "    \n",
    "    regressor = LinearRegression()\n",
    "    regressor.fit(cords[-num_for_ang:,0].reshape(-1, 1), cords[-num_for_ang:,1].reshape(-1, 1))\n",
    "    ang_y2 = np.sin(regressor.coef_[0][0])\n",
    "    \n",
    "    #Time\n",
    "    regressor = LinearRegression()\n",
    "    regressor.fit(np.arange(num_for_ang).reshape(-1, 1), cords[:num_for_ang,2].reshape(-1, 1))\n",
    "    ang_y_t = np.sin(regressor.coef_[0][0])\n",
    "    \n",
    "    regressor = LinearRegression()\n",
    "    regressor.fit(np.arange(num_for_ang).reshape(-1, 1), cords[-num_for_ang:,2].reshape(-1, 1))\n",
    "    ang_y2_t = np.sin(regressor.coef_[0][0])\n",
    "    \n",
    "    angles = np.array([ang_z,ang_z2,ang_z_t,ang_z2_t,\n",
    "                       ang_y,ang_y2,ang_y_t,ang_y2_t])\n",
    "    \n",
    "    \n",
    "    X[i,0:14] = np.concatenate((max_z,max_y,angles))\n",
    "    X_raw[i] = cords.flatten('F')"
   ]
  },
  {
   "cell_type": "code",
   "execution_count": 8,
   "metadata": {},
   "outputs": [],
   "source": [
    "#indexeses for maxes\n",
    "inxs_noty_mx = np.array([0,1,2]) #max height (z)\n",
    "\n",
    "inxs_notz_mx = np.array([3,4,5]) #max transverse (y)\n",
    "\n",
    "inxs_all_mx = np.array([0,1,2,3,4,5]) # Both z and y\n",
    "\n",
    "inxs_notx_mx = np.array([0,2,3,5]) # Excluding x info"
   ]
  },
  {
   "cell_type": "code",
   "execution_count": 9,
   "metadata": {},
   "outputs": [],
   "source": [
    "#indexeses for angles\n",
    "inxs_noty_ang = np.array([6,7,8,9]) # (z)\n",
    "\n",
    "inxs_notz_ang = np.array([10,11,12,13]) # (y)\n",
    "\n",
    "inxs_all_ang = np.array([6,7,8,9,10,11,12,13]) # Both z and y\n",
    "\n",
    "inxs_notx_ang = np.array([8,9,12,13]) # Excluding x info"
   ]
  },
  {
   "cell_type": "code",
   "execution_count": 10,
   "metadata": {},
   "outputs": [],
   "source": [
    "#Final indexes\n",
    "\n",
    "inxs_all = np.concatenate((inxs_all_mx,inxs_all_ang))\n",
    "\n",
    "inxs_noty = np.concatenate((inxs_noty_mx,inxs_noty_ang))\n",
    "\n",
    "inxs_notz = np.concatenate((inxs_notz_mx,inxs_notz_ang))\n",
    "\n",
    "inxs_notx = np.concatenate((inxs_notx_mx,inxs_notx_ang))"
   ]
  },
  {
   "cell_type": "code",
   "execution_count": 11,
   "metadata": {},
   "outputs": [],
   "source": [
    "y_ob_h = np.empty((tot), dtype=object)\n",
    "y_ob_d = np.empty((tot), dtype=object)\n",
    "\n",
    "i_arr = np.arange(tot)\n",
    "y_ob_h[y_ex%3 == 0] = \"S\"\n",
    "y_ob_h[y_ex%3 == 1] = \"M\"\n",
    "y_ob_h[y_ex%3 == 2] = \"T\"\n",
    "y_ob_h[y_ex == 15] = \"N\"\n",
    "\n",
    "y_ob_d[y_ex//3 == 0] = \"15\"\n",
    "y_ob_d[y_ex//3 == 1] = \"22.5\"\n",
    "y_ob_d[y_ex//3 == 2] = \"30\"\n",
    "y_ob_d[y_ex//3 == 3] = \"37.5\"\n",
    "y_ob_d[y_ex//3 == 4] = \"45\"\n",
    "y_ob_d[y_ex//3 == 5] = \"N\""
   ]
  },
  {
   "cell_type": "code",
   "execution_count": 12,
   "metadata": {},
   "outputs": [],
   "source": [
    "mx_iter = int(1e20)\n",
    "\n",
    "X = np.delete(X,remove_indx,axis=0)\n",
    "Y = np.delete(y_ob_h,remove_indx)\n",
    "Y_d = np.delete(y_ob_d,remove_indx)\n",
    "\n",
    "X_raw = np.delete(X_raw,remove_indx,axis=0)\n",
    "y_ex = np.delete(y_ex, remove_indx)\n",
    "\n",
    "raw_inx_all = np.arange(300)\n",
    "raw_inx_noty = np.concatenate((np.arange(100),np.arange(200,300)))\n",
    "raw_inx_notz = np.arange(200)\n",
    "raw_inx_notx = np.arange(100,300)\n",
    "\n",
    "\n",
    "\n",
    "K_num = 5\n",
    "\n",
    "CV = model_selection.KFold(K_num, shuffle=True)\n",
    "folds = [[i,j] for i,j in CV.split(X,Y)]\n",
    "\n",
    "y_per = np.delete(y_per,remove_indx)\n",
    "group_kfold = model_selection.GroupKFold(n_splits=5)\n",
    "folds_B = [[i,j] for i,j in group_kfold.split(X, Y, y_per)]"
   ]
  },
  {
   "cell_type": "code",
   "execution_count": 15,
   "metadata": {},
   "outputs": [],
   "source": [
    "\n",
    "train_indx, test_indx = folds_B[0][0],folds_B[0][1]\n",
    "\n",
    "X_train = X[train_indx,:]\n",
    "X_test = X[test_indx,:]\n",
    "\n",
    "Y_train = [Y[train_indx], Y_d[train_indx], y_ex[train_indx]]\n",
    "Y_test = [Y[test_indx], Y_d[test_indx], y_ex[test_indx]]\n",
    "\n",
    "X_train_raw = X_raw[train_indx,:]\n",
    "X_test_raw = X_raw[test_indx,:]\n"
   ]
  },
  {
   "cell_type": "code",
   "execution_count": 16,
   "metadata": {},
   "outputs": [],
   "source": [
    "def train_test_neural_network(X_train_vals, Y_train_vals, X_test_vals, Y_test_vals, numb=1, print_B = False):\n",
    "    sizes_train = []\n",
    "    for i in Y_train_vals[0]:\n",
    "        if i == \"S\":\n",
    "            sizes_train.append(1)\n",
    "        elif i == \"M\":\n",
    "            sizes_train.append(2)\n",
    "        elif i == \"T\":\n",
    "            sizes_train.append(3)\n",
    "        elif i == \"N\":\n",
    "            sizes_train.append(4)\n",
    "        else:\n",
    "            print(\"ERROR: NOT EQUAL S M OR T\")\n",
    "    \n",
    "    sizes_test = []\n",
    "    for i in Y_test_vals[0]:\n",
    "        if i == \"S\":\n",
    "            sizes_test.append(1)\n",
    "        elif i == \"M\":\n",
    "            sizes_test.append(2)\n",
    "        elif i == \"T\":\n",
    "            sizes_test.append(3)\n",
    "        elif i == \"N\":\n",
    "            sizes_test.append(4)\n",
    "        else:\n",
    "            print(\"ERROR: NOT EQUAL S M OR T\")\n",
    "\n",
    "    distances_train = []\n",
    "    for i in Y_train_vals[1]:\n",
    "        if i == \"N\":\n",
    "            distances_train.append(100)\n",
    "        else:\n",
    "            distances_train.append(i)\n",
    "    \n",
    "    distances_test = []\n",
    "    for i in Y_test_vals[1]:\n",
    "        if i == \"N\":\n",
    "            distances_test.append(100)\n",
    "        else:\n",
    "            distances_test.append(i)\n",
    "    clsize = MLPClassifier(random_state=1, max_iter=1000,hidden_layer_sizes=(20,20,20)).fit(X_train_vals, sizes_train)\n",
    "    \n",
    "    cldist = MLPClassifier(random_state=1, max_iter=1000,hidden_layer_sizes=(20,20,20)).fit(X_train_vals, distances_train)\n",
    "    \n",
    "    clexer = MLPClassifier(random_state=1, max_iter=1000,hidden_layer_sizes=(20,20,20)).fit(X_train_vals, list(Y_train_vals[2])) \n",
    "    if print_B:\n",
    "        print(f\"\\nPREDICTOR LINEAR REGRESSION{numb}\\n\",\"-\"*16)\n",
    "        print(\" \")\n",
    "        print(\"H = \" + str(clsize.score(X_test_vals,sizes_test)))\n",
    "        \n",
    "        print(\"D = \" + str(cldist.score(X_test_vals,distances_test)))\n",
    "\n",
    "        print(\"tot = \" + str(clexer.score(X_test_vals, list(Y_test_vals[2]))))\n",
    "        print(\" \")\n",
    "    else:\n",
    "        return clsize.score(X_test_vals,sizes_test), cldist.score(X_test_vals,distances_test), clexer.score(X_test_vals, list(Y_test_vals[2]))\n"
   ]
  },
  {
   "cell_type": "code",
   "execution_count": 17,
   "metadata": {},
   "outputs": [
    {
     "name": "stdout",
     "output_type": "stream",
     "text": [
      "0.3312,\n",
      "0.3188,\n",
      "0.328125,\n",
      "0.3719,\n",
      "0.3594,\n",
      "0.33125,\n",
      "0.3875,\n",
      "0.3812,\n",
      "0.4,\n",
      "0.1375,\n",
      "0.1375,\n",
      "0.18125,\n",
      "0.2156,\n",
      "0.175,\n",
      "0.253125,\n"
     ]
    }
   ],
   "source": [
    "test_list = [inxs_all,inxs_all_mx,inxs_noty,inxs_notz,inxs_notx]\n",
    "for i in range(len(test_list)):\n",
    "    \n",
    "    indx_curr = test_list[i]\n",
    "    \n",
    "    acc_1, vals_1 = train_test(X_train[:,indx_curr], Y_train, X_test[:,indx_curr], Y_test, numb = \"_\"+str(i),print_B = False)\n",
    "    \n",
    "    \n",
    "    acc_2, vals_2 = train_test_reg(X_train[:,indx_curr], Y_train, X_test[:,indx_curr], Y_test, numb = \"_\"+str(i),print_B = False)\n",
    "    \n",
    "    acc_size, acc_dist, acc_score = train_test_neural_network(X_train[:,indx_curr], Y_train, X_test[:,indx_curr], Y_test, numb = \"_\"+str(i),print_B = False)\n",
    "    \n",
    "    print(str(acc_1) + \",\")\n",
    "    print(str(acc_2) + \",\")\n",
    "    print(str(acc_score) + \",\")\n",
    "    \n",
    "    \n",
    "\n"
   ]
  },
  {
   "cell_type": "code",
   "execution_count": 59,
   "metadata": {},
   "outputs": [
    {
     "name": "stdout",
     "output_type": "stream",
     "text": [
      "\n",
      "PREDICTOR LINEAR REGRESSIONRAW_0\n",
      " ----------------\n",
      " \n",
      "H = 0.7\n",
      "D = 0.43125\n",
      "tot = 0.4\n",
      " \n",
      "\n",
      "PREDICTOR LINEAR REGRESSIONRAW_1\n",
      " ----------------\n",
      " \n",
      "H = 0.778125\n",
      "D = 0.4625\n",
      "tot = 0.484375\n",
      " \n",
      "\n",
      "PREDICTOR LINEAR REGRESSIONRAW_2\n",
      " ----------------\n",
      " \n",
      "H = 0.46875\n",
      "D = 0.45625\n",
      "tot = 0.259375\n",
      " \n",
      "\n",
      "PREDICTOR LINEAR REGRESSIONRAW_3\n",
      " ----------------\n",
      " \n",
      "H = 0.740625\n",
      "D = 0.34375\n",
      "tot = 0.4125\n",
      " \n"
     ]
    }
   ],
   "source": [
    "    \n",
    "tests_raw = [raw_inx_all,raw_inx_noty,raw_inx_notz,raw_inx_notx]\n",
    "\n",
    "for i in range(len(tests_raw)):\n",
    "    \n",
    "    indx_curr = tests_raw[i]\n",
    "    \n",
    "    train_test(X_train_raw[:,indx_curr], Y_train, X_test_raw[:,indx_curr], Y_test, numb = \"RAW_\"+str(i),print_B = True)\n",
    "    \n",
    "    train_test_reg(X_train_raw[:,indx_curr], Y_train, X_test_raw[:,indx_curr], Y_test, numb = \"RAW_\"+str(i),print_B = True)\n",
    "    \n",
    "    train_test_neural_network(X_train_raw[:,indx_curr], Y_train, X_test_raw[:,indx_curr], Y_test, numb = \"RAW_\"+str(i))\n"
   ]
  },
  {
   "cell_type": "markdown",
   "metadata": {},
   "source": [
    "# Cross validation"
   ]
  },
  {
   "cell_type": "code",
   "execution_count": 45,
   "metadata": {},
   "outputs": [],
   "source": [
    "#FOR ALL VALS : PROCESSED\n",
    "\n",
    "test_list = [inxs_all,inxs_all_mx,inxs_noty,inxs_notz,inxs_notx]\n",
    "#for i in range(len(test_list)):\n",
    "accuracies_logistic = []\n",
    "accuracies_neural = []\n",
    "acc_baselines = []\n",
    "\n",
    "\n",
    "for f in range(5):\n",
    "    train_indx, test_indx = folds_B[f][0],folds_B[f][1]\n",
    "\n",
    "    X_train = X[train_indx,:]\n",
    "    X_test = X[test_indx,:]\n",
    "\n",
    "    Y_train = [Y[train_indx], Y_d[train_indx], y_ex[train_indx]]\n",
    "    Y_test = [Y[test_indx], Y_d[test_indx], y_ex[test_indx]]\n",
    "\n",
    "\n",
    "    indx_curr = test_list[4]\n",
    "    \n",
    "    acc_1, vals_1 = train_test(X_train[:,indx_curr], Y_train, X_test[:,indx_curr], Y_test, numb = \"_\"+str(i),print_B = False)\n",
    "    \n",
    "    \n",
    "    #acc_2, vals_2 = train_test_reg(X_train[:,indx_curr], Y_train, X_test[:,indx_curr], Y_test, numb = \"_\"+str(i),print_B = False)\n",
    "    \n",
    "    acc_size, acc_dist, acc_score = train_test_neural_network(X_train[:,indx_curr], Y_train, X_test[:,indx_curr], Y_test, numb = \"_\"+str(i),print_B = False)\n",
    "    \n",
    "    acc_baselines.append(np.mean(Y_test[2] == 0))\n",
    "    \n",
    "    \n",
    "    accuracies_logistic.append(acc_1)\n",
    "    accuracies_neural.append(acc_score)"
   ]
  },
  {
   "cell_type": "code",
   "execution_count": 50,
   "metadata": {},
   "outputs": [
    {
     "name": "stdout",
     "output_type": "stream",
     "text": [
      "[0.0625, 0.0625, 0.0625, 0.0625, 0.06369426751592357]\n",
      "[0.2156, 0.2344, 0.3219, 0.2969, 0.2197]\n",
      "[0.253125, 0.2875, 0.328125, 0.290625, 0.2070063694267516]\n"
     ]
    }
   ],
   "source": [
    "print(acc_baselines)\n",
    "print(accuracies_logistic)\n",
    "print(accuracies_neural)"
   ]
  },
  {
   "cell_type": "code",
   "execution_count": 52,
   "metadata": {},
   "outputs": [],
   "source": [
    "#RAW ALL DIMENSION\n",
    "    \n",
    "tests_raw = [raw_inx_all,raw_inx_noty,raw_inx_notz,raw_inx_notx]\n",
    "\n",
    "accuracies_logistic_raw = []\n",
    "accuracies_neural_raw = []\n",
    "\n",
    "for f in range(5):\n",
    "    \n",
    "    train_indx, test_indx = folds_B[f][0],folds_B[f][1]\n",
    "\n",
    "    X_train = X[train_indx,:]\n",
    "    X_test = X[test_indx,:]\n",
    "\n",
    "    Y_train = [Y[train_indx], Y_d[train_indx], y_ex[train_indx]]\n",
    "    Y_test = [Y[test_indx], Y_d[test_indx], y_ex[test_indx]]\n",
    "\n",
    "    X_train_raw = X_raw[train_indx,:]\n",
    "    X_test_raw = X_raw[test_indx,:]\n",
    "\n",
    "    indx_curr = tests_raw[3]\n",
    "    \n",
    "    acc_3, vals_3 = train_test(X_train_raw[:,indx_curr], Y_train, X_test_raw[:,indx_curr], Y_test, numb = \"RAW_\"+str(i),print_B = False)\n",
    "    \n",
    "    #train_test_reg(X_train_raw[:,indx_curr], Y_train, X_test_raw[:,indx_curr], Y_test, numb = \"RAW_\"+str(i),print_B = True)\n",
    "    \n",
    "    acc_size_4, acc_dist_4, acc_score_4 = train_test_neural_network(X_train_raw[:,indx_curr], Y_train, X_test_raw[:,indx_curr], Y_test, numb = \"RAW_\"+str(i), print_B = False)\n",
    "    \n",
    "    accuracies_logistic_raw.append(acc_3)\n",
    "    accuracies_neural_raw.append(acc_score_4)\n",
    "    \n",
    "    "
   ]
  },
  {
   "cell_type": "code",
   "execution_count": 51,
   "metadata": {},
   "outputs": [
    {
     "name": "stdout",
     "output_type": "stream",
     "text": [
      "[0.2219, 0.2312, 0.2188, 0.2281, 0.1497]\n",
      "[0.259375, 0.196875, 0.290625, 0.234375, 0.17197452229299362]\n"
     ]
    }
   ],
   "source": [
    "print(accuracies_logistic_raw)\n",
    "print(accuracies_neural_raw)"
   ]
  },
  {
   "cell_type": "markdown",
   "metadata": {},
   "source": [
    "# X left and X Raw left matrices"
   ]
  },
  {
   "cell_type": "code",
   "execution_count": 28,
   "metadata": {},
   "outputs": [],
   "source": [
    "from copy import deepcopy\n",
    "X_LEFT = np.empty((tot,16))\n",
    "X_raw_LEFT = np.empty((tot,300))\n",
    "for i in range(tot):\n",
    "    ex = i//100\n",
    "    per = (i//10)%10\n",
    "    tr = i%10\n",
    "    \n",
    "    if per == 8:\n",
    "        if [ex,tr] in [[4,0],[6,1],[9,0],[10,0],[12,0],[13,1]]:\n",
    "            \n",
    "            continue\n",
    "    \n",
    "    cords = data[ex,per,tr]\n",
    "    \n",
    "    cords_left = deepcopy(cords)\n",
    "    cords_left[:,1] = -1*cords_left[:,1]\n",
    "    \n",
    "    cords = cords_left\n",
    "    \n",
    "    #Max heigh\n",
    "    indx_z = np.argmax(cords,axis = 0)[2]\n",
    "    max_z = np.array([cords[indx_z,2],cords[indx_z,0],indx_z])\n",
    "    \n",
    "    #Max transverse\n",
    "    indx_y = np.argmax(abs(cords),axis = 0)[1]\n",
    "    max_y = np.array([abs(cords[indx_y,1]),cords[indx_y,0],indx_y])\n",
    "    \n",
    "    # 6 for this part\n",
    "    \n",
    "    #Angle-z\n",
    "    \n",
    "    regressor = LinearRegression()\n",
    "    regressor.fit(cords[:num_for_ang,0].reshape(-1, 1), cords[:num_for_ang,2].reshape(-1, 1))\n",
    "    ang_z = np.sin(regressor.coef_[0][0])\n",
    "    \n",
    "    regressor = LinearRegression()\n",
    "    regressor.fit(cords[-num_for_ang:,0].reshape(-1, 1), cords[-num_for_ang:,2].reshape(-1, 1))\n",
    "    ang_z2 = np.sin(regressor.coef_[0][0])\n",
    "    \n",
    "    #Time\n",
    "    regressor = LinearRegression()\n",
    "    regressor.fit(np.arange(num_for_ang).reshape(-1, 1), cords[:num_for_ang,2].reshape(-1, 1))\n",
    "    ang_z_t = np.sin(regressor.coef_[0][0])\n",
    "    \n",
    "    regressor = LinearRegression()\n",
    "    regressor.fit(np.arange(num_for_ang).reshape(-1, 1), cords[-num_for_ang:,2].reshape(-1, 1))\n",
    "    ang_z2_t = np.sin(regressor.coef_[0][0])\n",
    "    \n",
    "\n",
    "    \n",
    "    #Angle-y\n",
    "    \n",
    "    regressor = LinearRegression()\n",
    "    regressor.fit(cords[:num_for_ang,0].reshape(-1, 1), cords[:num_for_ang,1].reshape(-1, 1))\n",
    "    ang_y = np.sin(regressor.coef_[0][0])\n",
    "    \n",
    "    regressor = LinearRegression()\n",
    "    regressor.fit(cords[-num_for_ang:,0].reshape(-1, 1), cords[-num_for_ang:,1].reshape(-1, 1))\n",
    "    ang_y2 = np.sin(regressor.coef_[0][0])\n",
    "    \n",
    "    #Time\n",
    "    regressor = LinearRegression()\n",
    "    regressor.fit(np.arange(num_for_ang).reshape(-1, 1), cords[:num_for_ang,2].reshape(-1, 1))\n",
    "    ang_y_t = np.sin(regressor.coef_[0][0])\n",
    "    \n",
    "    regressor = LinearRegression()\n",
    "    regressor.fit(np.arange(num_for_ang).reshape(-1, 1), cords[-num_for_ang:,2].reshape(-1, 1))\n",
    "    ang_y2_t = np.sin(regressor.coef_[0][0])\n",
    "    \n",
    "    angles = np.array([ang_z,ang_z2,ang_z_t,ang_z2_t,\n",
    "                       ang_y,ang_y2,ang_y_t,ang_y2_t])\n",
    "    \n",
    "    \n",
    "    X_LEFT[i,0:14] = np.concatenate((max_z,max_y,angles))\n",
    "    X_raw_LEFT[i] = cords.flatten('F')\n",
    "    \n",
    "X_raw_LEFT = np.delete(X_raw_LEFT,remove_indx,axis=0)\n",
    "X_LEFT = np.delete(X_LEFT,remove_indx,axis=0)"
   ]
  },
  {
   "cell_type": "code",
   "execution_count": 30,
   "metadata": {},
   "outputs": [],
   "source": [
    "\n",
    "test_list = [inxs_all,inxs_all_mx,inxs_noty,inxs_notz,inxs_notx]\n",
    "#for i in range(len(test_list)):\n",
    "accuracies_logistic_LEFT = []\n",
    "accuracies_neural_LEFT = []\n",
    "for f in range(5):\n",
    "        \n",
    "    train_indx, test_indx = folds_B[f][0],folds_B[f][1]\n",
    "\n",
    "    X_train = X[train_indx,:]\n",
    "    X_test = X_LEFT[test_indx,:]\n",
    "\n",
    "    Y_train = [Y[train_indx], Y_d[train_indx], y_ex[train_indx]]\n",
    "    Y_test = [Y[test_indx], Y_d[test_indx], y_ex[test_indx]]\n",
    "\n",
    "\n",
    "    indx_curr = test_list[0]\n",
    "    \n",
    "    acc_1, vals_1 = train_test(X_train[:,indx_curr], Y_train, X_test[:,indx_curr], Y_test, numb = \"_\"+str(i),print_B = False)\n",
    "    \n",
    "    \n",
    "    #acc_2, vals_2 = train_test_reg(X_train[:,indx_curr], Y_train, X_test[:,indx_curr], Y_test, numb = \"_\"+str(i),print_B = False)\n",
    "    \n",
    "    acc_size, acc_dist, acc_score = train_test_neural_network(X_train[:,indx_curr], Y_train, X_test[:,indx_curr], Y_test, numb = \"_\"+str(i),print_B = False)\n",
    "    \n",
    "    accuracies_logistic_LEFT.append(acc_1)\n",
    "    accuracies_neural_LEFT.append(acc_score)"
   ]
  },
  {
   "cell_type": "code",
   "execution_count": 31,
   "metadata": {},
   "outputs": [
    {
     "name": "stdout",
     "output_type": "stream",
     "text": [
      "[0.3188, 0.3938, 0.4688, 0.4188, 0.2739]\n",
      "[0.365625, 0.378125, 0.525, 0.359375, 0.2929936305732484]\n"
     ]
    }
   ],
   "source": [
    "print(accuracies_logistic_LEFT)\n",
    "print(accuracies_neural_LEFT)"
   ]
  },
  {
   "cell_type": "code",
   "execution_count": 32,
   "metadata": {},
   "outputs": [],
   "source": [
    "#RAW ALL DIMENSION\n",
    "    \n",
    "tests_raw = [raw_inx_all,raw_inx_noty,raw_inx_notz,raw_inx_notx]\n",
    "\n",
    "accuracies_logistic_raw_LEFT = []\n",
    "accuracies_neural_raw_LEFT = []\n",
    "\n",
    "for f in range(5):\n",
    "    \n",
    "    train_indx, test_indx = folds_B[f][0],folds_B[f][1]\n",
    "\n",
    "    X_train = X[train_indx,:]\n",
    "    X_test = X[test_indx,:]\n",
    "\n",
    "    Y_train = [Y[train_indx], Y_d[train_indx], y_ex[train_indx]]\n",
    "    Y_test = [Y[test_indx], Y_d[test_indx], y_ex[test_indx]]\n",
    "\n",
    "    X_train_raw = X_raw[train_indx,:]\n",
    "    X_test_raw = X_raw_LEFT[test_indx,:]\n",
    "\n",
    "    indx_curr = tests_raw[0]\n",
    "    \n",
    "    acc_3, vals_3 = train_test(X_train_raw[:,indx_curr], Y_train, X_test_raw[:,indx_curr], Y_test, numb = \"RAW_\"+str(i),print_B = False)\n",
    "    \n",
    "    #train_test_reg(X_train_raw[:,indx_curr], Y_train, X_test_raw[:,indx_curr], Y_test, numb = \"RAW_\"+str(i),print_B = True)\n",
    "    \n",
    "    acc_size_4, acc_dist_4, acc_score_4 = train_test_neural_network(X_train_raw[:,indx_curr], Y_train, X_test_raw[:,indx_curr], Y_test, numb = \"RAW_\"+str(i), print_B = False)\n",
    "    \n",
    "    accuracies_logistic_raw_LEFT.append(acc_3)\n",
    "    accuracies_neural_raw_LEFT.append(acc_score_4)"
   ]
  },
  {
   "cell_type": "code",
   "execution_count": 33,
   "metadata": {},
   "outputs": [
    {
     "name": "stdout",
     "output_type": "stream",
     "text": [
      "[0.1656, 0.1812, 0.2062, 0.1781, 0.1465]\n",
      "[0.1625, 0.190625, 0.234375, 0.078125, 0.1624203821656051]\n"
     ]
    }
   ],
   "source": [
    "print(accuracies_logistic_raw_LEFT)\n",
    "print(accuracies_neural_raw_LEFT)"
   ]
  }
 ],
 "metadata": {
  "kernelspec": {
   "display_name": "Python 3",
   "language": "python",
   "name": "python3"
  },
  "language_info": {
   "codemirror_mode": {
    "name": "ipython",
    "version": 3
   },
   "file_extension": ".py",
   "mimetype": "text/x-python",
   "name": "python",
   "nbconvert_exporter": "python",
   "pygments_lexer": "ipython3",
   "version": "3.8.5"
  }
 },
 "nbformat": 4,
 "nbformat_minor": 0
}
